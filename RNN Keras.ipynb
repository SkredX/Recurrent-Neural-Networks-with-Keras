{
 "cells": [
  {
   "cell_type": "code",
   "execution_count": 1,
   "id": "990b9024-d600-46b0-9600-0ad53df59ab0",
   "metadata": {},
   "outputs": [],
   "source": [
    "import numpy as np\n",
    "from tensorflow.keras.models import Sequential\n",
    "from tensorflow.keras.layers import TimeDistributed, Dense, Dropout, SimpleRNN, RepeatVector\n",
    "from tensorflow.keras.callbacks import EarlyStopping, LambdaCallback\n",
    "from termcolor import colored"
   ]
  },
  {
   "cell_type": "code",
   "execution_count": 3,
   "id": "32936f11-d5b1-4228-90e4-3044151fd4aa",
   "metadata": {},
   "outputs": [
    {
     "name": "stdout",
     "output_type": "stream",
     "text": [
      "no of features: 11\n"
     ]
    }
   ],
   "source": [
    "all_chars='0123456789+' #Vocabulary\n",
    "num_features = len(all_chars)\n",
    "print('no of features:', num_features)\n",
    "char_to_index= dict((c,i) for i,c in enumerate(all_chars))\n",
    "index_to_char= dict((i,c) for i, c in enumerate(all_chars))"
   ]
  },
  {
   "cell_type": "code",
   "execution_count": 5,
   "id": "44c638ab-f43e-4132-a797-1d318a479f17",
   "metadata": {},
   "outputs": [
    {
     "data": {
      "text/plain": [
       "('48+81', '129')"
      ]
     },
     "execution_count": 5,
     "metadata": {},
     "output_type": "execute_result"
    }
   ],
   "source": [
    "def generate_data():\n",
    "    first = np.random.randint(0,100)\n",
    "    second = np.random.randint(0,100)\n",
    "    example = str(first)+ '+' + str(second)\n",
    "    label = str(first+second)\n",
    "    return example, label\n",
    "generate_data()"
   ]
  },
  {
   "cell_type": "code",
   "execution_count": 7,
   "id": "8575a0c3-bfbf-4280-a44d-a129e23c7eac",
   "metadata": {},
   "outputs": [
    {
     "data": {
      "text/html": [
       "<pre style=\"white-space:pre;overflow-x:auto;line-height:normal;font-family:Menlo,'DejaVu Sans Mono',consolas,'Courier New',monospace\"><span style=\"font-weight: bold\">Model: \"sequential\"</span>\n",
       "</pre>\n"
      ],
      "text/plain": [
       "\u001b[1mModel: \"sequential\"\u001b[0m\n"
      ]
     },
     "metadata": {},
     "output_type": "display_data"
    },
    {
     "data": {
      "text/html": [
       "<pre style=\"white-space:pre;overflow-x:auto;line-height:normal;font-family:Menlo,'DejaVu Sans Mono',consolas,'Courier New',monospace\">┏━━━━━━━━━━━━━━━━━━━━━━━━━━━━━━━━━┳━━━━━━━━━━━━━━━━━━━━━━━━┳━━━━━━━━━━━━━━━┓\n",
       "┃<span style=\"font-weight: bold\"> Layer (type)                    </span>┃<span style=\"font-weight: bold\"> Output Shape           </span>┃<span style=\"font-weight: bold\">       Param # </span>┃\n",
       "┡━━━━━━━━━━━━━━━━━━━━━━━━━━━━━━━━━╇━━━━━━━━━━━━━━━━━━━━━━━━╇━━━━━━━━━━━━━━━┩\n",
       "│ simple_rnn (<span style=\"color: #0087ff; text-decoration-color: #0087ff\">SimpleRNN</span>)          │ (<span style=\"color: #00d7ff; text-decoration-color: #00d7ff\">None</span>, <span style=\"color: #00af00; text-decoration-color: #00af00\">128</span>)            │        <span style=\"color: #00af00; text-decoration-color: #00af00\">17,920</span> │\n",
       "├─────────────────────────────────┼────────────────────────┼───────────────┤\n",
       "│ repeat_vector (<span style=\"color: #0087ff; text-decoration-color: #0087ff\">RepeatVector</span>)    │ (<span style=\"color: #00d7ff; text-decoration-color: #00d7ff\">None</span>, <span style=\"color: #00af00; text-decoration-color: #00af00\">5</span>, <span style=\"color: #00af00; text-decoration-color: #00af00\">128</span>)         │             <span style=\"color: #00af00; text-decoration-color: #00af00\">0</span> │\n",
       "├─────────────────────────────────┼────────────────────────┼───────────────┤\n",
       "│ simple_rnn_1 (<span style=\"color: #0087ff; text-decoration-color: #0087ff\">SimpleRNN</span>)        │ (<span style=\"color: #00d7ff; text-decoration-color: #00d7ff\">None</span>, <span style=\"color: #00af00; text-decoration-color: #00af00\">5</span>, <span style=\"color: #00af00; text-decoration-color: #00af00\">128</span>)         │        <span style=\"color: #00af00; text-decoration-color: #00af00\">32,896</span> │\n",
       "├─────────────────────────────────┼────────────────────────┼───────────────┤\n",
       "│ time_distributed                │ (<span style=\"color: #00d7ff; text-decoration-color: #00d7ff\">None</span>, <span style=\"color: #00af00; text-decoration-color: #00af00\">5</span>, <span style=\"color: #00af00; text-decoration-color: #00af00\">11</span>)          │         <span style=\"color: #00af00; text-decoration-color: #00af00\">1,419</span> │\n",
       "│ (<span style=\"color: #0087ff; text-decoration-color: #0087ff\">TimeDistributed</span>)               │                        │               │\n",
       "└─────────────────────────────────┴────────────────────────┴───────────────┘\n",
       "</pre>\n"
      ],
      "text/plain": [
       "┏━━━━━━━━━━━━━━━━━━━━━━━━━━━━━━━━━┳━━━━━━━━━━━━━━━━━━━━━━━━┳━━━━━━━━━━━━━━━┓\n",
       "┃\u001b[1m \u001b[0m\u001b[1mLayer (type)                   \u001b[0m\u001b[1m \u001b[0m┃\u001b[1m \u001b[0m\u001b[1mOutput Shape          \u001b[0m\u001b[1m \u001b[0m┃\u001b[1m \u001b[0m\u001b[1m      Param #\u001b[0m\u001b[1m \u001b[0m┃\n",
       "┡━━━━━━━━━━━━━━━━━━━━━━━━━━━━━━━━━╇━━━━━━━━━━━━━━━━━━━━━━━━╇━━━━━━━━━━━━━━━┩\n",
       "│ simple_rnn (\u001b[38;5;33mSimpleRNN\u001b[0m)          │ (\u001b[38;5;45mNone\u001b[0m, \u001b[38;5;34m128\u001b[0m)            │        \u001b[38;5;34m17,920\u001b[0m │\n",
       "├─────────────────────────────────┼────────────────────────┼───────────────┤\n",
       "│ repeat_vector (\u001b[38;5;33mRepeatVector\u001b[0m)    │ (\u001b[38;5;45mNone\u001b[0m, \u001b[38;5;34m5\u001b[0m, \u001b[38;5;34m128\u001b[0m)         │             \u001b[38;5;34m0\u001b[0m │\n",
       "├─────────────────────────────────┼────────────────────────┼───────────────┤\n",
       "│ simple_rnn_1 (\u001b[38;5;33mSimpleRNN\u001b[0m)        │ (\u001b[38;5;45mNone\u001b[0m, \u001b[38;5;34m5\u001b[0m, \u001b[38;5;34m128\u001b[0m)         │        \u001b[38;5;34m32,896\u001b[0m │\n",
       "├─────────────────────────────────┼────────────────────────┼───────────────┤\n",
       "│ time_distributed                │ (\u001b[38;5;45mNone\u001b[0m, \u001b[38;5;34m5\u001b[0m, \u001b[38;5;34m11\u001b[0m)          │         \u001b[38;5;34m1,419\u001b[0m │\n",
       "│ (\u001b[38;5;33mTimeDistributed\u001b[0m)               │                        │               │\n",
       "└─────────────────────────────────┴────────────────────────┴───────────────┘\n"
      ]
     },
     "metadata": {},
     "output_type": "display_data"
    },
    {
     "data": {
      "text/html": [
       "<pre style=\"white-space:pre;overflow-x:auto;line-height:normal;font-family:Menlo,'DejaVu Sans Mono',consolas,'Courier New',monospace\"><span style=\"font-weight: bold\"> Total params: </span><span style=\"color: #00af00; text-decoration-color: #00af00\">52,235</span> (204.04 KB)\n",
       "</pre>\n"
      ],
      "text/plain": [
       "\u001b[1m Total params: \u001b[0m\u001b[38;5;34m52,235\u001b[0m (204.04 KB)\n"
      ]
     },
     "metadata": {},
     "output_type": "display_data"
    },
    {
     "data": {
      "text/html": [
       "<pre style=\"white-space:pre;overflow-x:auto;line-height:normal;font-family:Menlo,'DejaVu Sans Mono',consolas,'Courier New',monospace\"><span style=\"font-weight: bold\"> Trainable params: </span><span style=\"color: #00af00; text-decoration-color: #00af00\">52,235</span> (204.04 KB)\n",
       "</pre>\n"
      ],
      "text/plain": [
       "\u001b[1m Trainable params: \u001b[0m\u001b[38;5;34m52,235\u001b[0m (204.04 KB)\n"
      ]
     },
     "metadata": {},
     "output_type": "display_data"
    },
    {
     "data": {
      "text/html": [
       "<pre style=\"white-space:pre;overflow-x:auto;line-height:normal;font-family:Menlo,'DejaVu Sans Mono',consolas,'Courier New',monospace\"><span style=\"font-weight: bold\"> Non-trainable params: </span><span style=\"color: #00af00; text-decoration-color: #00af00\">0</span> (0.00 B)\n",
       "</pre>\n"
      ],
      "text/plain": [
       "\u001b[1m Non-trainable params: \u001b[0m\u001b[38;5;34m0\u001b[0m (0.00 B)\n"
      ]
     },
     "metadata": {},
     "output_type": "display_data"
    }
   ],
   "source": [
    "from keras.models import Sequential\n",
    "from keras.layers import SimpleRNN, RepeatVector, TimeDistributed, Dense, Input\n",
    "\n",
    "hidden_units = 128\n",
    "max_time_steps = 5\n",
    "num_features = 11  # You may need to define num_features based on your data\n",
    "\n",
    "model = Sequential([\n",
    "    Input(shape=(None, num_features)),  # Explicit Input layer\n",
    "    SimpleRNN(hidden_units),\n",
    "    RepeatVector(max_time_steps),\n",
    "    SimpleRNN(hidden_units, return_sequences=True),\n",
    "    TimeDistributed(Dense(num_features, activation='softmax'))\n",
    "])\n",
    "\n",
    "model.compile(\n",
    "   loss='categorical_crossentropy',\n",
    "   optimizer='adam',\n",
    "   metrics=['accuracy']\n",
    ")\n",
    "\n",
    "model.summary()\n"
   ]
  },
  {
   "cell_type": "code",
   "execution_count": 9,
   "id": "fd00c337-c586-4e38-90f6-e121060cadc0",
   "metadata": {},
   "outputs": [
    {
     "name": "stdout",
     "output_type": "stream",
     "text": [
      "82+77 159\n",
      "(5, 11) (5, 11)\n"
     ]
    }
   ],
   "source": [
    "def vectorize_example(example,label):\n",
    "    x=np.zeros((max_time_steps,num_features))\n",
    "    y=np.zeros((max_time_steps,num_features))\n",
    "    \n",
    "    diff_x = max_time_steps - len(example)\n",
    "    diff_y = max_time_steps - len(label)\n",
    "    \n",
    "    for i,c in enumerate(example):\n",
    "        x[i+diff_x,char_to_index[c]] =1\n",
    "    for i in range(diff_x):\n",
    "        x[i,char_to_index['0']] = 1\n",
    "    for i,c in enumerate(label):\n",
    "        y[i+diff_y,char_to_index[c]] =1\n",
    "    for i in range(diff_y):\n",
    "        y[i,char_to_index['0']] = 1  \n",
    "    return x,y\n",
    "e, l = generate_data()\n",
    "print(e,l)\n",
    "x,y= vectorize_example(e,l)\n",
    "print(x.shape,y.shape)"
   ]
  },
  {
   "cell_type": "code",
   "execution_count": 11,
   "id": "d5a23092-5f78-4239-ac48-a858c2d94ae7",
   "metadata": {},
   "outputs": [
    {
     "data": {
      "text/plain": [
       "'82+77'"
      ]
     },
     "execution_count": 11,
     "metadata": {},
     "output_type": "execute_result"
    }
   ],
   "source": [
    "def devectorize_example(example):\n",
    "    result = [index_to_char[np.argmax(vec)] for i,vec in enumerate(example)]\n",
    "    return ''.join(result)\n",
    "devectorize_example(x)"
   ]
  },
  {
   "cell_type": "code",
   "execution_count": 13,
   "id": "13b80db0-36f0-4921-85a4-51ae83dcab6b",
   "metadata": {},
   "outputs": [
    {
     "data": {
      "text/plain": [
       "'00159'"
      ]
     },
     "execution_count": 13,
     "metadata": {},
     "output_type": "execute_result"
    }
   ],
   "source": [
    "devectorize_example(y)"
   ]
  },
  {
   "cell_type": "code",
   "execution_count": 15,
   "id": "782179ca-cd9e-4dbc-92aa-2d6d7ca921a3",
   "metadata": {},
   "outputs": [
    {
     "name": "stdout",
     "output_type": "stream",
     "text": [
      "(2000, 5, 11) (2000, 5, 11)\n"
     ]
    }
   ],
   "source": [
    "def create_dataset(num_examples=2000):\n",
    "    x=np.zeros((num_examples,max_time_steps,num_features))\n",
    "    y=np.zeros((num_examples,max_time_steps,num_features))\n",
    "    for i in range(num_examples):\n",
    "        e,l = generate_data()\n",
    "        e_v, l_v = vectorize_example(e,l)\n",
    "        x[i] = e_v\n",
    "        y[i] = l_v\n",
    "    return x,y\n",
    "x,y = create_dataset()\n",
    "print(x.shape,y.shape)"
   ]
  },
  {
   "cell_type": "code",
   "execution_count": 17,
   "id": "35adecd3-9565-4f49-a7fa-840e7012e16f",
   "metadata": {},
   "outputs": [
    {
     "data": {
      "text/plain": [
       "'00111'"
      ]
     },
     "execution_count": 17,
     "metadata": {},
     "output_type": "execute_result"
    }
   ],
   "source": [
    "devectorize_example(x[0])\n",
    "devectorize_example(y[0])"
   ]
  },
  {
   "cell_type": "code",
   "execution_count": null,
   "id": "b070bf06-ed21-4b5b-ba91-8aa1bdcc5d69",
   "metadata": {},
   "outputs": [
    {
     "name": "stdout",
     "output_type": "stream",
     "text": [
      "0.57 _ 0.59 _ 0.61 _ 0.62 _ 0.61 _ 0.63 _ 0.63 _ 0.64 _ 0.64 _ 0.64 _ 0.65 _ 0.65 _ 0.66 _ 0.66 _ 0.67 _ 0.68 _ 0.67 _ 0.67 _ 0.70 _ 0.70 _ 0.69 _ 0.70 _ 0.70 _ 0.71 _ 0.70 _ 0.71 _ 0.72 _ 0.73 _ 0.72 _ 0.73 _ 0.74 _ 0.74 _ 0.74 _ 0.75 _ 0.75 _ 0.75 _ 0.75 _ 0.75 _ 0.75 _ 0.75 _ 0.76 _ 0.76 _ 0.77 _ 0.77 _ 0.78 _ 0.77 _ 0.77 _ 0.78 _ 0.79 _ 0.79 _ 0.79 _ 0.80 _ 0.81 _ 0.81 _ 0.82 _ 0.82 _ 0.83 _ 0.83 _ 0.85 _ 0.84 _ 0.84 _ 0.85 _ 0.86 _ 0.85 _ 0.86 _ 0.86 _ 0.87 _ 0.86 _ 0.88 _ 0.88 _ 0.88 _ 0.88 _ 0.89 _ 0.89 _ 0.90 _ 0.90 _ 0.90 _ 0.90 _ 0.91 _ 0.90 _ 0.90 _ 0.91 _ 0.91 _ 0.91 _ 0.92 _ 0.92 _ 0.92 _ 0.92 _ 0.92 _ 0.92 _ 0.93 _ 0.92 _ 0.93 _ 0.93 _ 0.93 _ 0.93 _ 0.94 _ 0.93 _ 0.94 _ 0.93 _ 0.94 _ 0.94 _ 0.93 _ 0.94 _ 0.94 _ 0.93 _ 0.95 _ 0.94 _ 0.94 _ 0.94 _ 0.94 _ 0.94 _ 0.94 _ 0.94 _ 0.94 _ 0.94 _ 0.95 _ 0.94 _ 0.95 _ 0.95 _ 0.95 _ 0.95 _ 0.95 _ 0.95 _ 0.95 _ 0.95 _ 0.95 _ 0.95 _ 0.95 _ 0.95 _ 0.95 _ 0.95 _ 0.95 _ 0.95 _ 0.96 _ 0.95 _ 0.95 _ 0.95 _ 0.95 _ 0.96 _ 0.95 _ 0.96 _ 0.96 _ 0.96 _ 0.96 _ 0.96 _ 0.96 _ 0.96 _ 0.95 _ 0.96 _ 0.96 _ 0.96 _ 0.96 _ 0.96 _ 0.96 _ 0.96 _ 0.96 _ 0.96 _ 0.96 _ 0.96 _ 0.96 _ 0.96 _ 0.95 _ 0.96 _ 0.96 _ 0.96 _ 0.96 _ 0.96 _ 0.96 _ 0.96 _ 0.96 _ "
     ]
    }
   ],
   "source": [
    "from keras.callbacks import LambdaCallback, EarlyStopping\n",
    "\n",
    "l_cb = LambdaCallback(\n",
    "    on_epoch_end=lambda e, l: print('{:.2f}'.format(l.get('val_accuracy', 0)), end=' _ ')\n",
    ")\n",
    "es_cb = EarlyStopping(monitor='val_loss', patience=10)\n",
    "\n",
    "model.fit(x, y, epochs=500, batch_size=256, validation_split=0.2,\n",
    "          verbose=False, callbacks=[es_cb, l_cb])\n"
   ]
  },
  {
   "cell_type": "code",
   "execution_count": 30,
   "id": "89599ded-aa9e-4b53-9c2f-182445fe6bdb",
   "metadata": {},
   "outputs": [
    {
     "name": "stdout",
     "output_type": "stream",
     "text": [
      "\u001b[1m1/1\u001b[0m \u001b[32m━━━━━━━━━━━━━━━━━━━━\u001b[0m\u001b[37m\u001b[0m \u001b[1m0s\u001b[0m 342ms/step\n",
      "\u001b[32mInput: 88+76 Out: 00164Pred:00164\u001b[0m\n",
      "\u001b[32mInput: 93+79 Out: 00172Pred:00172\u001b[0m\n",
      "\u001b[32mInput: 72+23 Out: 00095Pred:00095\u001b[0m\n",
      "\u001b[32mInput: 039+5 Out: 00044Pred:00044\u001b[0m\n",
      "\u001b[32mInput: 37+92 Out: 00129Pred:00129\u001b[0m\n",
      "\u001b[32mInput: 30+49 Out: 00079Pred:00079\u001b[0m\n",
      "\u001b[32mInput: 35+80 Out: 00115Pred:00115\u001b[0m\n",
      "\u001b[32mInput: 83+35 Out: 00118Pred:00118\u001b[0m\n",
      "\u001b[32mInput: 37+49 Out: 00086Pred:00086\u001b[0m\n",
      "\u001b[31mInput: 62+57 Out: 00119Pred:00120\u001b[0m\n"
     ]
    }
   ],
   "source": [
    "x_test,y_test = create_dataset(10)\n",
    "preds = model.predict(x_test)\n",
    "for i,pred in enumerate(preds):\n",
    "    y=devectorize_example(y_test[i])\n",
    "    y_hat = devectorize_example(pred)\n",
    "    col='green'\n",
    "    if y!= y_hat:\n",
    "        col='red'\n",
    "    out='Input: '+ devectorize_example(x_test[i])+' Out: ' +y+'Pred:' +y_hat\n",
    "    print(colored(out,col))"
   ]
  }
 ],
 "metadata": {
  "kernelspec": {
   "display_name": "Python 3 (ipykernel)",
   "language": "python",
   "name": "python3"
  },
  "language_info": {
   "codemirror_mode": {
    "name": "ipython",
    "version": 3
   },
   "file_extension": ".py",
   "mimetype": "text/x-python",
   "name": "python",
   "nbconvert_exporter": "python",
   "pygments_lexer": "ipython3",
   "version": "3.11.7"
  }
 },
 "nbformat": 4,
 "nbformat_minor": 5
}
